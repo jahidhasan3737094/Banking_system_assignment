{
 "cells": [
  {
   "cell_type": "code",
   "execution_count": 1,
   "metadata": {},
   "outputs": [],
   "source": [
    "from abc import ABC\n",
    "from getpass import getpass\n"
   ]
  },
  {
   "cell_type": "code",
   "execution_count": 2,
   "metadata": {},
   "outputs": [],
   "source": [
    "class general_info():\n",
    "    def first_name(self,name):\n",
    "        pass\n",
    "    def get_first_name(self):\n",
    "        pass\n",
    "    def last_name(self,name):\n",
    "        pass\n",
    "    def get_last_name(self):\n",
    "        pass\n",
    "    def address(self,address):\n",
    "        pass\n",
    "    def get_adress(self):\n",
    "        pass"
   ]
  },
  {
   "cell_type": "code",
   "execution_count": 3,
   "metadata": {},
   "outputs": [],
   "source": [
    "class customers(general_info):\n",
    "    customer_id=\"\"\n",
    "    \n",
    "    def __init__(self,first_name,last_name,address,customer_id):\n",
    "        \n",
    "        self.first_name=first_name\n",
    "        self.last_name=last_name\n",
    "        self.address=address\n",
    "        self.customer_id=customer_id\n",
    "    def first_name(self,name):\n",
    "        self.first_name=name\n",
    "    def get_first_name(self):\n",
    "        return self.first_name\n",
    "    def last_name(self,name):\n",
    "        self.last_name=name\n",
    "    def get_last_name(self):\n",
    "        return self.last_name\n",
    "    def address(self,address):\n",
    "        self.address=address\n",
    "    def get_adress(self):\n",
    "        return self.address"
   ]
  },
  {
   "cell_type": "code",
   "execution_count": 4,
   "metadata": {},
   "outputs": [],
   "source": [
    "customer= customers(\"jahid\",\"hasan\",\"dhaka\",\"16-33\")"
   ]
  },
  {
   "cell_type": "code",
   "execution_count": 5,
   "metadata": {},
   "outputs": [
    {
     "name": "stdout",
     "output_type": "stream",
     "text": [
      "jahid\n"
     ]
    }
   ],
   "source": [
    "print(customer.get_first_name())"
   ]
  },
  {
   "cell_type": "code",
   "execution_count": 6,
   "metadata": {},
   "outputs": [],
   "source": [
    "class users(customers):\n",
    "    __user_name=\"\"\n",
    "    __user_password=\"\"\n",
    "    def __init__(self,first_name,last_name,address,customer_id,user_name,user_password):\n",
    "        super().__init__(first_name,last_name,address,customer_id)\n",
    "        self.__user_name=user_name\n",
    "        self.__user_password=user_password\n",
    "    def get_user_name(self):\n",
    "        return self.__user_name\n",
    "    def login(self,user_name,user_password):\n",
    "        if self.__user_name==user_name:\n",
    "            if self.__user_password==user_password:\n",
    "                return True\n",
    "            else:\n",
    "                print(\"password incorrect!!!\")\n",
    "        else:\n",
    "            print(\"user_name incorrect!!!\")\n",
    "            \n",
    "                "
   ]
  },
  {
   "cell_type": "code",
   "execution_count": 7,
   "metadata": {},
   "outputs": [
    {
     "data": {
      "text/plain": [
       "True"
      ]
     },
     "execution_count": 7,
     "metadata": {},
     "output_type": "execute_result"
    }
   ],
   "source": [
    "user= users(\"jahid\",\"hasan\",\"dhaka\",\"16-33\",\"jhsaif\",12345)\n",
    "user.login(\"jhsaif\",12345)"
   ]
  },
  {
   "cell_type": "code",
   "execution_count": 8,
   "metadata": {},
   "outputs": [],
   "source": [
    "class account_info(users):\n",
    "    \n",
    "    balance=0\n",
    "    deposit=0\n",
    "    widthdraw=0\n",
    "    \n",
    "    def __init__(self,first_name,last_name,address,customer_id,user_name,user_password,deposit):\n",
    "        super().__init__(first_name,last_name,address,customer_id,user_name,user_password)\n",
    "        \n",
    "        self.balance=self.deposit=deposit\n",
    "        \n",
    "    def set_balance(self,balance):\n",
    "        self.balance=balance\n",
    "#     def get_balance(self):\n",
    "#         return self.balance\n",
    "    def set_deposit(self,deposit):\n",
    "        self.deposit=deposit\n",
    "        self.balance=self.balance + self.deposit\n",
    "#     def get_deposit(self):\n",
    "#         return self.deposit\n",
    "    def set_widthdraw(self,widthdraw):\n",
    "        self.widthdraw=widthdraw\n",
    "        if self.balance>500:\n",
    "            self.balance=self.balance-self.widthdraw\n",
    "        else:\n",
    "            print(\"balance is insufficient !!!\")\n",
    "#     def get_widthdraw(self):\n",
    "#         return self.widthdraw\n",
    "    \n",
    "    def general_info(self):\n",
    "        print(f\"user name name is : {self.first_name} {self.last_name}\")\n",
    "        print(f\"user address is : {self.address}\")\n",
    "        print(f\"user ID is : {self.customer_id} \")\n",
    "        \n",
    "    def account_info(self):\n",
    "        user_name=input(\"enter the user name : \")\n",
    "        user_password= int(getpass(\"enter the passowrd : \"))\n",
    "#         user_password=int(input(\"enter the password : \"))\n",
    "        if (self.login(user_name,user_password)):\n",
    "            print(f\"User_name : {self.get_user_name()}\")\n",
    "            print(f\"Balance : {self.balance}\")\n",
    "            print(f\"last deposit : {self.deposit}\")\n",
    "            print(f\"last widthdraw : {self.widthdraw}\")\n",
    "        \n",
    "        \n",
    "        \n",
    "        "
   ]
  },
  {
   "cell_type": "code",
   "execution_count": 9,
   "metadata": {},
   "outputs": [],
   "source": [
    "a1= account_info(\"jahid\",\"hasan\",\"dhaka\",\"16-33\",\"jhsaif\",12345,10000)"
   ]
  },
  {
   "cell_type": "code",
   "execution_count": 10,
   "metadata": {},
   "outputs": [
    {
     "name": "stdout",
     "output_type": "stream",
     "text": [
      "user name name is : jahid hasan\n",
      "user address is : dhaka\n",
      "user ID is : 16-33 \n",
      "enter the user name : jhsaif\n",
      "enter the passowrd : ········\n",
      "User_name : jhsaif\n",
      "Balance : 12000\n",
      "last deposit : 5000\n",
      "last widthdraw : 3000\n"
     ]
    }
   ],
   "source": [
    "a1.general_info()\n",
    "a1.set_deposit(5000)\n",
    "a1.set_widthdraw(3000)\n",
    "a1.account_info()"
   ]
  },
  {
   "cell_type": "code",
   "execution_count": null,
   "metadata": {},
   "outputs": [],
   "source": []
  }
 ],
 "metadata": {
  "kernelspec": {
   "display_name": "Python 3",
   "language": "python",
   "name": "python3"
  },
  "language_info": {
   "codemirror_mode": {
    "name": "ipython",
    "version": 3
   },
   "file_extension": ".py",
   "mimetype": "text/x-python",
   "name": "python",
   "nbconvert_exporter": "python",
   "pygments_lexer": "ipython3",
   "version": "3.8.5"
  }
 },
 "nbformat": 4,
 "nbformat_minor": 4
}
